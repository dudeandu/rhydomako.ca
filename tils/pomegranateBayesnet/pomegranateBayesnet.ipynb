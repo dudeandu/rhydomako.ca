{
 "cells": [
  {
   "cell_type": "markdown",
   "metadata": {},
   "source": [
    "Example taken from Coursera's `Probabilistic Graphical Models`, taught by Prof. Daphne Koller (https://class.coursera.org/pgm/)\n",
    "\n",
    "Pomegranate library: https://github.com/jmschrei/pomegranate"
   ]
  },
  {
   "cell_type": "code",
   "execution_count": 1,
   "metadata": {
    "collapsed": false
   },
   "outputs": [],
   "source": [
    "import pomegranate as pom"
   ]
  },
  {
   "cell_type": "code",
   "execution_count": 2,
   "metadata": {
    "collapsed": false
   },
   "outputs": [],
   "source": [
    "difficulty = pom.DiscreteDistribution({ 'hard':0.6, 'easy':0.4 })\n",
    "intelligence = pom.DiscreteDistribution({ 'intelligent':0.7, 'not-intelligent':0.3 })\n",
    "grade = pom.ConditionalProbabilityTable(\n",
    "    [['hard', 'intelligent', 'A', 0.3 ],\n",
    "     ['hard', 'intelligent', 'B', 0.4 ],\n",
    "     ['hard', 'intelligent', 'C', 0.3 ],\n",
    "     ['hard', 'not-intelligent', 'A', 0.05 ],\n",
    "     ['hard', 'not-intelligent', 'B', 0.25 ],\n",
    "     ['hard', 'not-intelligent', 'C', 0.7 ],\n",
    "     ['easy', 'intelligent', 'A', 0.9 ],\n",
    "     ['easy', 'intelligent', 'B', 0.08 ],\n",
    "     ['easy', 'intelligent', 'C', 0.02 ],\n",
    "     ['easy', 'not-intelligent', 'A', 0.5 ],\n",
    "     ['easy', 'not-intelligent', 'B', 0.3 ],\n",
    "     ['easy', 'not-intelligent', 'C', 0.2 ],\n",
    "    ],\n",
    "    [difficulty, intelligence]\n",
    ")\n",
    "sat = pom.ConditionalProbabilityTable(\n",
    "    [['intelligent', 'high-mark', 0.95],\n",
    "     ['intelligent', 'low-mark', 0.05],\n",
    "     ['not-intelligent', 'high-mark', 0.2],\n",
    "     ['not-intelligent', 'low-mark', 0.8]\n",
    "    ],\n",
    "    [intelligence]\n",
    ")\n",
    "letter = pom.ConditionalProbabilityTable(\n",
    "    [['A', 'reference-letter', 0.9],\n",
    "     ['B', 'reference-letter', 0.6],\n",
    "     ['C', 'reference-letter', 0.01],\n",
    "     ['A', 'no-reference-letter', 0.1],\n",
    "     ['B', 'no-reference-letter', 0.4],\n",
    "     ['C', 'no-reference-letter', 0.99]\n",
    "    ],\n",
    "    [grade]\n",
    ")"
   ]
  },
  {
   "cell_type": "code",
   "execution_count": 3,
   "metadata": {
    "collapsed": false
   },
   "outputs": [],
   "source": [
    "d = pom.State(difficulty, name=\"difficulty\")\n",
    "i = pom.State(intelligence, name=\"intelligence\")\n",
    "g = pom.State(grade, name=\"grade\")\n",
    "s = pom.State(sat, name=\"sat\")\n",
    "l = pom.State(letter, name=\"letter\")"
   ]
  },
  {
   "cell_type": "code",
   "execution_count": 4,
   "metadata": {
    "collapsed": false
   },
   "outputs": [],
   "source": [
    "network = pom.BayesianNetwork( \"student\" )\n",
    "network.add_states( [ d, i, g, s, l ] )"
   ]
  },
  {
   "cell_type": "code",
   "execution_count": 5,
   "metadata": {
    "collapsed": true
   },
   "outputs": [],
   "source": [
    "network.add_transition( d, g )\n",
    "network.add_transition( i, g )\n",
    "network.add_transition( i, s )\n",
    "network.add_transition( g, l )"
   ]
  },
  {
   "cell_type": "code",
   "execution_count": 6,
   "metadata": {
    "collapsed": false
   },
   "outputs": [],
   "source": [
    "network.bake()"
   ]
  },
  {
   "cell_type": "markdown",
   "metadata": {},
   "source": [
    "Observe how the probabilites are effected by observing various outcomes:"
   ]
  },
  {
   "cell_type": "code",
   "execution_count": 7,
   "metadata": {
    "collapsed": false
   },
   "outputs": [
    {
     "name": "stdout",
     "output_type": "stream",
     "text": [
      "difficulty\t{\n",
      "    \"frozen\" :false,\n",
      "    \"class\" :\"Distribution\",\n",
      "    \"parameters\" :[\n",
      "        {\n",
      "            \"hard\" :1.0,\n",
      "            \"easy\" :0.0\n",
      "        }\n",
      "    ],\n",
      "    \"name\" :\"DiscreteDistribution\"\n",
      "}\n",
      "intelligence\t{\n",
      "    \"frozen\" :false,\n",
      "    \"class\" :\"Distribution\",\n",
      "    \"parameters\" :[\n",
      "        {\n",
      "            \"intelligent\" :0.9172413793103448,\n",
      "            \"not-intelligent\" :0.0827586206896552\n",
      "        }\n",
      "    ],\n",
      "    \"name\" :\"DiscreteDistribution\"\n",
      "}\n",
      "grade\t{\n",
      "    \"frozen\" :false,\n",
      "    \"class\" :\"Distribution\",\n",
      "    \"parameters\" :[\n",
      "        {\n",
      "            \"A\" :0.2793103448275863,\n",
      "            \"C\" :0.3331034482758622,\n",
      "            \"B\" :0.38758620689655154\n",
      "        }\n",
      "    ],\n",
      "    \"name\" :\"DiscreteDistribution\"\n",
      "}\n",
      "sat\t{\n",
      "    \"frozen\" :false,\n",
      "    \"class\" :\"Distribution\",\n",
      "    \"parameters\" :[\n",
      "        {\n",
      "            \"low-mark\" :0.0,\n",
      "            \"high-mark\" :1.0\n",
      "        }\n",
      "    ],\n",
      "    \"name\" :\"DiscreteDistribution\"\n",
      "}\n",
      "letter\t{\n",
      "    \"frozen\" :false,\n",
      "    \"class\" :\"Distribution\",\n",
      "    \"parameters\" :[\n",
      "        {\n",
      "            \"reference-letter\" :0.4872620689655171,\n",
      "            \"no-reference-letter\" :0.512737931034483\n",
      "        }\n",
      "    ],\n",
      "    \"name\" :\"DiscreteDistribution\"\n",
      "}\n"
     ]
    }
   ],
   "source": [
    "observations = { 'difficulty': 'hard', 'sat':'high-mark' }\n",
    "beliefs = map( str, network.predict_proba( observations ) )\n",
    "print \"\\n\".join( \"{}\\t{}\".format( state.name, belief ) for state, belief in zip( network.states, beliefs ) )"
   ]
  }
 ],
 "metadata": {
  "kernelspec": {
   "display_name": "Python 2",
   "language": "python",
   "name": "python2"
  },
  "language_info": {
   "codemirror_mode": {
    "name": "ipython",
    "version": 2
   },
   "file_extension": ".py",
   "mimetype": "text/x-python",
   "name": "python",
   "nbconvert_exporter": "python",
   "pygments_lexer": "ipython2",
   "version": "2.7.11"
  }
 },
 "nbformat": 4,
 "nbformat_minor": 0
}
