{
 "cells": [
  {
   "cell_type": "code",
   "execution_count": 1,
   "metadata": {
    "collapsed": true
   },
   "outputs": [],
   "source": [
    "import pandas as pd\n",
    "import numpy as np\n",
    "from scipy.stats import gamma\n",
    "\n",
    "import matplotlib.pylab as plt\n",
    "%matplotlib inline"
   ]
  },
  {
   "cell_type": "code",
   "execution_count": 2,
   "metadata": {
    "collapsed": true
   },
   "outputs": [],
   "source": [
    "def SliceSample(log_p, theta, x, bandwidth=1):\n",
    "    \"\"\"\n",
    "    Simple implementation of Slice Sampler\n",
    "    \n",
    "    Args:\n",
    "        log_p (function): reference to the log-function to sample from\n",
    "        theta (dict): distribution parameters to pass to the log-function\n",
    "        x (float): sample point\n",
    "        bandwidth (optional float): initial guess of the slice width\n",
    "        \n",
    "    Returns:\n",
    "        float: sample from the log-distribution\n",
    "        \n",
    "    Reference:\n",
    "        Neal, Radford. Ann. Statist. Volume 31, Number 3 (2003), 705-767.\n",
    "        http://projecteuclid.org/euclid.aos/1056562461\n",
    "    \"\"\"\n",
    "    # Uniform sample 'vertically' in the range [0,P(x)]\n",
    "    log_z = log_p(x,theta) - np.random.exponential(1)  \n",
    "    # Initial slice bounds\n",
    "    L = x - bandwidth * np.random.rand()\n",
    "    R = L + bandwidth\n",
    "    # step the slice out\n",
    "    while log_p(L,theta) > log_z:\n",
    "        L -= bandwidth\n",
    "    while log_p(R,theta) > log_z:\n",
    "        R += bandwidth\n",
    "    # Uniform sample 'horizontally' between [L,R]\n",
    "    xprime = L + (R-L) * np.random.rand()\n",
    "    while log_p(xprime, theta) < log_z: # reject if sample is outside the slice\n",
    "        if xprime < x: # narrow the interval\n",
    "            L = xprime\n",
    "        else:\n",
    "            R = xprime\n",
    "        xprime = L + (R-L) * np.random.rand() # try again\n",
    "    return xprime"
   ]
  },
  {
   "cell_type": "code",
   "execution_count": 3,
   "metadata": {
    "collapsed": true
   },
   "outputs": [],
   "source": [
    "def log_gamma(x, theta):\n",
    "    \"\"\" Log of the gamma distribution PDF \"\"\"\n",
    "    alpha = theta['alpha']\n",
    "    beta  = theta['beta']\n",
    "    return (alpha - 1) * np.log(x) - beta * x"
   ]
  },
  {
   "cell_type": "code",
   "execution_count": 4,
   "metadata": {
    "collapsed": false
   },
   "outputs": [
    {
     "data": {
      "image/png": "[encoded data removed]",
      "text/plain": [
       "<matplotlib.figure.Figure at 0x1129c9908>"
      ]
     },
     "metadata": {},
     "output_type": "display_data"
    }
   ],
   "source": [
    "N = 5000\n",
    "alpha = 9\n",
    "beta = 2\n",
    "\n",
    "samples = [1] # initial guess\n",
    "for _ in range(N): # sample loop\n",
    "    samples.append( SliceSample(log_gamma, {'alpha':alpha,'beta':beta}, samples[-1]) )\n",
    "    \n",
    "X = np.linspace(0,20,100)\n",
    "plt.hist(samples, bins=50, normed=True, histtype='stepfilled', alpha=0.4, label=\"Samples\")\n",
    "plt.plot(X, [gamma(alpha,scale=1./beta).pdf(x) for x in X], color='k', ls='--', label=\"PDF\")\n",
    "plt.legend(loc=\"best\");"
   ]
  }
 ],
 "metadata": {
  "kernelspec": {
   "display_name": "Python 3",
   "language": "python",
   "name": "python3"
  },
  "language_info": {
   "codemirror_mode": {
    "name": "ipython",
    "version": 3
   },
   "file_extension": ".py",
   "mimetype": "text/x-python",
   "name": "python",
   "nbconvert_exporter": "python",
   "pygments_lexer": "ipython3",
   "version": "3.5.1"
  }
 },
 "nbformat": 4,
 "nbformat_minor": 0
}
