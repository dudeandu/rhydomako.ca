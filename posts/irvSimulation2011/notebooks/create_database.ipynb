{
 "cells": [
  {
   "cell_type": "code",
   "execution_count": 1,
   "metadata": {
    "collapsed": false
   },
   "outputs": [],
   "source": [
    "import pandas as pd\n",
    "import numpy as np\n",
    "import json\n",
    "from collections import Counter\n",
    "import sqlalchemy\n",
    "import hashlib\n",
    "import glob"
   ]
  },
  {
   "cell_type": "markdown",
   "metadata": {},
   "source": [
    "### Electoral Districts (2003 representation order)"
   ]
  },
  {
   "cell_type": "code",
   "execution_count": 405,
   "metadata": {
    "collapsed": false
   },
   "outputs": [
    {
     "name": "stdout",
     "output_type": "stream",
     "text": [
      "Writing db/electoral_district.sql\n"
     ]
    }
   ],
   "source": [
    "%%file db/electoral_district.sql\n",
    "\n",
    "DROP TABLE IF EXISTS electoral_district;\n",
    "\n",
    "CREATE TABLE electoral_district (\n",
    "    nid      TEXT PRIMARY KEY, --National identifier. A universally unique identifier\n",
    "    fednum   INTEGER,          --A unique number that identifies a FED\n",
    "    enname   TEXT,             --The official English name for the FED\n",
    "    frname   TEXT,             --The official French name for the FED\n",
    "    provcode TEXT,             --Province or territory covered by the dataset\n",
    "    creadt   TEXT,             --The date when the object was originally created \n",
    "    revdt    TEXT,             --The date when the object was last revised\n",
    "    reporder TEXT,             --The year of the representation order the FED is related to\n",
    "    decpopcnt INTEGER,         --Decennial census population count of the FED\n",
    "    quipopcnt INTEGER          --Quinquennale census population count of the FED\n",
    ");"
   ]
  },
  {
   "cell_type": "code",
   "execution_count": 492,
   "metadata": {
    "collapsed": false
   },
   "outputs": [],
   "source": [
    "!sqlite3 db/election.db < db/electoral_district.sql"
   ]
  },
  {
   "cell_type": "code",
   "execution_count": 24,
   "metadata": {
    "collapsed": false
   },
   "outputs": [
    {
     "name": "stdout",
     "output_type": "stream",
     "text": [
      "Archive:  data/fed_cf_CA_1_1_shp_en.zip\n"
     ]
    },
    {
     "name": "stderr",
     "output_type": "stream",
     "text": [
      "--2015-08-29 15:19:02--  http://ftp2.cits.rncan.gc.ca/pub/geobase/official/fed_cf/shp_eng/fed_cf_CA_1_1_shp_en.zip\n",
      "Resolving ftp2.cits.rncan.gc.ca... 192.67.45.79\n",
      "Connecting to ftp2.cits.rncan.gc.ca|192.67.45.79|:80... connected.\n",
      "HTTP request sent, awaiting response... 200 OK\n",
      "Length: 9633737 (9.2M) [application/zip]\n",
      "Saving to: 'data/fed_cf_CA_1_1_shp_en.zip'\n",
      "\n",
      "     0K .......... .......... .......... .......... ..........  0%  193M 0s\n",
      "    50K .......... .......... .......... .......... ..........  1%  191M 0s\n",
      "   100K .......... .......... .......... .......... ..........  1%  418K 7s\n",
      "   150K .......... .......... .......... .......... ..........  2%  176M 6s\n",
      "   200K .......... .......... .......... .......... ..........  2%  256M 4s\n",
      "   250K .......... .......... .......... .......... ..........  3%  755K 6s\n",
      "   300K .......... .......... .......... .......... ..........  3%  158M 5s\n",
      "   350K .......... .......... .......... .......... ..........  4%  856K 6s\n",
      "   400K .......... .......... .......... .......... ..........  4%  231M 5s\n",
      "   450K .......... .......... .......... .......... ..........  5%  245M 4s\n",
      "   500K .......... .......... .......... .......... ..........  5% 1.16M 5s\n",
      "   550K .......... .......... .......... .......... ..........  6%  216M 4s\n",
      "   600K .......... .......... .......... .......... ..........  6% 1.24M 4s\n",
      "   650K .......... .......... .......... .......... ..........  7%  303M 4s\n",
      "   700K .......... .......... .......... .......... ..........  7%  267M 4s\n",
      "   750K .......... .......... .......... .......... ..........  8% 1.24M 4s\n",
      "   800K .......... .......... .......... .......... ..........  9%  296M 4s\n",
      "   850K .......... .......... .......... .......... ..........  9% 1.34M 4s\n",
      "   900K .......... .......... .......... .......... .......... 10%  133M 4s\n",
      "   950K .......... .......... .......... .......... .......... 10% 56.1M 3s\n",
      "  1000K .......... .......... .......... .......... .......... 11% 1.45M 3s\n",
      "  1050K .......... .......... .......... .......... .......... 11%  241M 3s\n",
      "  1100K .......... .......... .......... .......... .......... 12%  252M 3s\n",
      "  1150K .......... .......... .......... .......... .......... 12% 1.23M 3s\n",
      "  1200K .......... .......... .......... .......... .......... 13%  158M 3s\n",
      "  1250K .......... .......... .......... .......... .......... 13% 1.46M 3s\n",
      "  1300K .......... .......... .......... .......... .......... 14%  162M 3s\n",
      "  1350K .......... .......... .......... .......... .......... 14%  131M 3s\n",
      "  1400K .......... .......... .......... .......... .......... 15% 1.30M 3s\n",
      "  1450K .......... .......... .......... .......... .......... 15%  400M 3s\n",
      "  1500K .......... .......... .......... .......... .......... 16% 1.28M 3s\n",
      "  1550K .......... .......... .......... .......... .......... 17%  148M 3s\n",
      "  1600K .......... .......... .......... .......... .......... 17%  134M 3s\n",
      "  1650K .......... .......... .......... .......... .......... 18% 1.37M 3s\n",
      "  1700K .......... .......... .......... .......... .......... 18%  162M 3s\n",
      "  1750K .......... .......... .......... .......... .......... 19% 1.16M 3s\n",
      "  1800K .......... .......... .......... .......... .......... 19%  191M 3s\n",
      "  1850K .......... .......... .......... .......... .......... 20%  160M 3s\n",
      "  1900K .......... .......... .......... .......... .......... 20% 1.26M 3s\n",
      "  1950K .......... .......... .......... .......... .......... 21%  311M 3s\n",
      "  2000K .......... .......... .......... .......... .......... 21% 1.34M 3s\n",
      "  2050K .......... .......... .......... .......... .......... 22%  235M 3s\n",
      "  2100K .......... .......... .......... .......... .......... 22%  271M 3s\n",
      "  2150K .......... .......... .......... .......... .......... 23% 1.27M 3s\n",
      "  2200K .......... .......... .......... .......... .......... 23%  268M 2s\n",
      "  2250K .......... .......... .......... .......... .......... 24%  230M 2s\n",
      "  2300K .......... .......... .......... .......... .......... 24% 1.13M 2s\n",
      "  2350K .......... .......... .......... .......... .......... 25%  258M 2s\n",
      "  2400K .......... .......... .......... .......... .......... 26% 1.02M 2s\n",
      "  2450K .......... .......... .......... .......... .......... 26%  191M 2s\n",
      "  2500K .......... .......... .......... .......... .......... 27%  249M 2s\n",
      "  2550K .......... .......... .......... .......... .......... 27% 1.43M 2s\n",
      "  2600K .......... .......... .......... .......... .......... 28%  135M 2s\n",
      "  2650K .......... .......... .......... .......... .......... 28% 1.26M 2s\n",
      "  2700K .......... .......... .......... .......... .......... 29%  215M 2s\n",
      "  2750K .......... .......... .......... .......... .......... 29%  216M 2s\n",
      "  2800K .......... .......... .......... .......... .......... 30% 1.06M 2s\n",
      "  2850K .......... .......... .......... .......... .......... 30%  196M 2s\n",
      "  2900K .......... .......... .......... .......... .......... 31% 1.23M 2s\n",
      "  2950K .......... .......... .......... .......... .......... 31% 84.8M 2s\n",
      "  3000K .......... .......... .......... .......... .......... 32%  137M 2s\n",
      "  3050K .......... .......... .......... .......... .......... 32%  674K 2s\n",
      "  3100K .......... .......... .......... .......... .......... 33%  245M 2s\n",
      "  3150K .......... .......... .......... .......... .......... 34% 2.34M 2s\n",
      "  3200K .......... .......... .......... .......... .......... 34%  144M 2s\n",
      "  3250K .......... .......... .......... .......... .......... 35%  193M 2s\n",
      "  3300K .......... .......... .......... .......... .......... 35% 2.08M 2s\n",
      "  3350K .......... .......... .......... .......... .......... 36% 91.3M 2s\n",
      "  3400K .......... .......... .......... .......... .......... 36%  140M 2s\n",
      "  3450K .......... .......... .......... .......... .......... 37% 1.33M 2s\n",
      "  3500K .......... .......... .......... .......... .......... 37%  200M 2s\n",
      "  3550K .......... .......... .......... .......... .......... 38%  807K 2s\n",
      "  3600K .......... .......... .......... .......... .......... 38%  379M 2s\n",
      "  3650K .......... .......... .......... .......... .......... 39%  191M 2s\n",
      "  3700K .......... .......... .......... .......... .......... 39% 2.35M 2s\n",
      "  3750K .......... .......... .......... .......... .......... 40%  117M 2s\n",
      "  3800K .......... .......... .......... .......... .......... 40% 1.16M 2s\n",
      "  3850K .......... .......... .......... .......... .......... 41%  126M 2s\n",
      "  3900K .......... .......... .......... .......... .......... 41%  258M 2s\n",
      "  3950K .......... .......... .......... .......... .......... 42% 1.15M 2s\n",
      "  4000K .......... .......... .......... .......... .......... 43%  173M 2s\n",
      "  4050K .......... .......... .......... .......... .......... 43% 1.06M 2s\n",
      "  4100K .......... .......... .......... .......... .......... 44%  179M 2s\n",
      "  4150K .......... .......... .......... .......... .......... 44%  281M 2s\n",
      "  4200K .......... .......... .......... .......... .......... 45% 1.09M 2s\n",
      "  4250K .......... .......... .......... .......... .......... 45%  244M 2s\n",
      "  4300K .......... .......... .......... .......... .......... 46%  356M 2s\n",
      "  4350K .......... .......... .......... .......... .......... 46%  978K 2s\n",
      "  4400K .......... .......... .......... .......... .......... 47%  138M 2s\n",
      "  4450K .......... .......... .......... .......... .......... 47%  959K 2s\n",
      "  4500K .......... .......... .......... .......... .......... 48%  144M 2s\n",
      "  4550K .......... .......... .......... .......... .......... 48%  213M 2s\n",
      "  4600K .......... .......... .......... .......... .......... 49%  950K 2s\n",
      "  4650K .......... .......... .......... .......... .......... 49%  171M 2s\n",
      "  4700K .......... .......... .......... .......... .......... 50%  972K 2s\n",
      "  4750K .......... .......... .......... .......... .......... 51%  135M 2s\n",
      "  4800K .......... .......... .......... .......... .......... 51%  175M 2s\n",
      "  4850K .......... .......... .......... .......... .......... 52%  899K 2s\n",
      "  4900K .......... .......... .......... .......... .......... 52%  220M 2s\n",
      "  4950K .......... .......... .......... .......... .......... 53%  931K 2s\n",
      "  5000K .......... .......... .......... .......... .......... 53%  242M 2s\n",
      "  5050K .......... .......... .......... .......... .......... 54%  207M 1s\n",
      "  5100K .......... .......... .......... .......... .......... 54%  907K 2s\n",
      "  5150K .......... .......... .......... .......... .......... 55% 83.5M 1s\n",
      "  5200K .......... .......... .......... .......... .......... 55%  954K 1s\n",
      "  5250K .......... .......... .......... .......... .......... 56% 84.6M 1s\n",
      "  5300K .......... .......... .......... .......... .......... 56%  197M 1s\n",
      "  5350K .......... .......... .......... .......... .......... 57%  938K 1s\n",
      "  5400K .......... .......... .......... .......... .......... 57%  381M 1s\n",
      "  5450K .......... .......... .......... .......... .......... 58%  332M 1s\n",
      "  5500K .......... .......... .......... .......... .......... 58%  929K 1s\n",
      "  5550K .......... .......... .......... .......... .......... 59% 84.8M 1s\n",
      "  5600K .......... .......... .......... .......... .......... 60%  961K 1s\n",
      "  5650K .......... .......... .......... .......... .......... 60%  425M 1s\n",
      "  5700K .......... .......... .......... .......... .......... 61%  227M 1s\n",
      "  5750K .......... .......... .......... .......... .......... 61%  952K 1s\n",
      "  5800K .......... .......... .......... .......... .......... 62%  116M 1s\n",
      "  5850K .......... .......... .......... .......... .......... 62%  984K 1s\n",
      "  5900K .......... .......... .......... .......... .......... 63%  132M 1s\n",
      "  5950K .......... .......... .......... .......... .......... 63% 66.3M 1s\n",
      "  6000K .......... .......... .......... .......... .......... 64%  991K 1s\n",
      "  6050K .......... .......... .......... .......... .......... 64% 51.1M 1s\n",
      "  6100K .......... .......... .......... .......... .......... 65%  951K 1s\n",
      "  6150K .......... .......... .......... .......... .......... 65%  195M 1s\n",
      "  6200K .......... .......... .......... .......... .......... 66%  394M 1s\n",
      "  6250K .......... .......... .......... .......... .......... 66%  956K 1s\n",
      "  6300K .......... .......... .......... .......... .......... 67%  164M 1s\n",
      "  6350K .......... .......... .......... .......... .......... 68%  901K 1s\n",
      "  6400K .......... .......... .......... .......... .......... 68%  180M 1s\n",
      "  6450K .......... .......... .......... .......... .......... 69%  307M 1s\n",
      "  6500K .......... .......... .......... .......... .......... 69%  991K 1s\n",
      "  6550K .......... .......... .......... .......... .......... 70%  191M 1s\n",
      "  6600K .......... .......... .......... .......... .......... 70%  252M 1s\n",
      "  6650K .......... .......... .......... .......... .......... 71% 1013K 1s\n",
      "  6700K .......... .......... .......... .......... .......... 71%  282M 1s\n",
      "  6750K .......... .......... .......... .......... .......... 72%  969K 1s\n",
      "  6800K .......... .......... .......... .......... .......... 72%  147M 1s\n",
      "  6850K .......... .......... .......... .......... .......... 73%  157M 1s\n",
      "  6900K .......... .......... .......... .......... .......... 73% 1.04M 1s\n",
      "  6950K .......... .......... .......... .......... .......... 74%  170M 1s\n",
      "  7000K .......... .......... .......... .......... .......... 74%  936K 1s\n",
      "  7050K .......... .......... .......... .......... .......... 75%  243M 1s\n",
      "  7100K .......... .......... .......... .......... .......... 75%  182M 1s\n",
      "  7150K .......... .......... .......... .......... .......... 76%  974K 1s\n",
      "  7200K .......... .......... .......... .......... .......... 77%  201M 1s\n",
      "  7250K .......... .......... .......... .......... .......... 77%  953K 1s\n",
      "  7300K .......... .......... .......... .......... .......... 78%  298M 1s\n",
      "  7350K .......... .......... .......... .......... .......... 78%  292M 1s\n",
      "  7400K .......... .......... .......... .......... .......... 79%  960K 1s\n",
      "  7450K .......... .......... .......... .......... .......... 79%  214M 1s\n",
      "  7500K .......... .......... .......... .......... .......... 80%  268M 1s\n",
      "  7550K .......... .......... .......... .......... .......... 80%  949K 1s\n",
      "  7600K .......... .......... .......... .......... .......... 81%  168M 1s\n",
      "  7650K .......... .......... .......... .......... .......... 81%  939K 1s\n",
      "  7700K .......... .......... .......... .......... .......... 82%  116M 1s\n",
      "  7750K .......... .......... .......... .......... .......... 82%  160M 1s\n",
      "  7800K .......... .......... .......... .......... .......... 83%  967K 1s\n",
      "  7850K .......... .......... .......... .......... .......... 83%  205M 1s\n",
      "  7900K .......... .......... .......... .......... .......... 84%  945K 1s\n",
      "  7950K .......... .......... .......... .......... .......... 85%  150M 1s\n",
      "  8000K .......... .......... .......... .......... .......... 85%  404M 1s\n",
      "  8050K .......... .......... .......... .......... .......... 86%  889K 0s\n",
      "  8100K .......... .......... .......... .......... .......... 86%  256M 0s\n",
      "  8150K .......... .......... .......... .......... .......... 87%  947K 0s\n",
      "  8200K .......... .......... .......... .......... .......... 87%  173M 0s\n",
      "  8250K .......... .......... .......... .......... .......... 88%  238M 0s\n",
      "  8300K .......... .......... .......... .......... .......... 88%  850K 0s\n",
      "  8350K .......... .......... .......... .......... .......... 89%  141M 0s\n",
      "  8400K .......... .......... .......... .......... .......... 89% 1.04M 0s\n",
      "  8450K .......... .......... .......... .......... .......... 90%  142M 0s\n",
      "  8500K .......... .......... .......... .......... .......... 90%  247M 0s\n",
      "  8550K .......... .......... .......... .......... .......... 91%  985K 0s\n",
      "  8600K .......... .......... .......... .......... .......... 91%  152M 0s\n",
      "  8650K .......... .......... .......... .......... .......... 92%  233M 0s\n",
      "  8700K .......... .......... .......... .......... .......... 93% 1018K 0s\n",
      "  8750K .......... .......... .......... .......... .......... 93%  217M 0s\n",
      "  8800K .......... .......... .......... .......... .......... 94%  993K 0s\n",
      "  8850K .......... .......... .......... .......... .......... 94%  144M 0s\n",
      "  8900K .......... .......... .......... .......... .......... 95%  237M 0s\n",
      "  8950K .......... .......... .......... .......... .......... 95%  997K 0s\n",
      "  9000K .......... .......... .......... .......... .......... 96%  200M 0s\n",
      "  9050K .......... .......... .......... .......... .......... 96%  956K 0s\n",
      "  9100K .......... .......... .......... .......... .......... 97%  135M 0s\n",
      "  9150K .......... .......... .......... .......... .......... 97%  140M 0s\n",
      "  9200K .......... .......... .......... .......... .......... 98% 1.23M 0s\n",
      "  9250K .......... .......... .......... .......... .......... 98%  104M 0s\n",
      "  9300K .......... .......... .......... .......... .......... 99%  190K 0s\n",
      "  9350K .......... .......... .......... .......... .......... 99%  145M 0s\n",
      "  9400K .......                                               100%  144M=3.8s\n",
      "\n",
      "2015-08-29 15:19:07 (2.44 MB/s) - 'data/fed_cf_CA_1_1_shp_en.zip' saved [9633737/9633737]\n",
      "\n"
     ]
    }
   ],
   "source": [
    "%%bash\n",
    "wget \\\n",
    "  http://ftp2.cits.rncan.gc.ca/pub/geobase/official/fed_cf/shp_eng/fed_cf_CA_1_1_shp_en.zip \\\n",
    "  -O data/fed_cf_CA_1_1_shp_en.zip\n",
    "    \n",
    "unzip -u \\\n",
    "  data/fed_cf_CA_1_1_shp_en.zip \\\n",
    "  -d data\n",
    "  \n",
    "ogr2ogr -f GeoJSON data/FED_CA_1_1_en.geojson data/FED_CA_1_1_en.shp"
   ]
  },
  {
   "cell_type": "code",
   "execution_count": 26,
   "metadata": {
    "collapsed": false
   },
   "outputs": [],
   "source": [
    "FED_data = json.load( open('data/FED_CA_1_1_en.geojson') )"
   ]
  },
  {
   "cell_type": "code",
   "execution_count": 407,
   "metadata": {
    "collapsed": false
   },
   "outputs": [],
   "source": [
    "records = []\n",
    "for FED in FED_data['features']:\n",
    "    records.append(FED['properties'])"
   ]
  },
  {
   "cell_type": "code",
   "execution_count": 2,
   "metadata": {
    "collapsed": false
   },
   "outputs": [],
   "source": [
    "engine = sqlalchemy.create_engine(\"sqlite:///db/election.db\", encoding='latin-1')"
   ]
  },
  {
   "cell_type": "code",
   "execution_count": 493,
   "metadata": {
    "collapsed": false
   },
   "outputs": [],
   "source": [
    "districts = pd.DataFrame(records, columns=['NID',\n",
    "                                           'FEDNUM',\n",
    "                                           'ENNAME',\n",
    "                                           'FRNAME',\n",
    "                                           'PROVCODE',\n",
    "                                           'CREADT',\n",
    "                                           'REVDT',\n",
    "                                           'REPORDER',\n",
    "                                           'DECPOPCNT',\n",
    "                                           'QUIPOPCNT'])\n",
    "districts.columns = ['nid','fednum','enname','frname','provcode','creadt','revdt','reporder','decpopcnt','quipopcnt']\n",
    "districts.drop_duplicates().to_sql('electoral_district', engine, if_exists='append', index=False)"
   ]
  },
  {
   "cell_type": "markdown",
   "metadata": {},
   "source": [
    "### Election results (2011)"
   ]
  },
  {
   "cell_type": "code",
   "execution_count": 90,
   "metadata": {
    "collapsed": false
   },
   "outputs": [
    {
     "name": "stdout",
     "output_type": "stream",
     "text": [
      "Archive:  data/pollresults_resultatsbureau_canada.zip\n"
     ]
    },
    {
     "name": "stderr",
     "output_type": "stream",
     "text": [
      "--2015-08-29 17:51:45--  http://www.elections.ca/scripts/OVR2011/34/data_donnees/pollresults_resultatsbureau_canada.zip\n",
      "Resolving www.elections.ca... 184.150.235.237\n",
      "Connecting to www.elections.ca|184.150.235.237|:80... connected.\n",
      "HTTP request sent, awaiting response... 200 OK\n",
      "Length: 3085377 (2.9M) [application/x-zip-compressed]\n",
      "Saving to: 'data/pollresults_resultatsbureau_canada.zip'\n",
      "\n",
      "     0K .......... .......... .......... .......... ..........  1%  131M 0s\n",
      "    50K .......... .......... .......... .......... ..........  3%  237M 0s\n",
      "   100K .......... .......... .......... .......... ..........  4% 56.3K 17s\n",
      "   150K .......... .......... .......... .......... ..........  6%  192M 13s\n",
      "   200K .......... .......... .......... .......... ..........  8%  200M 10s\n",
      "   250K .......... .......... .......... .......... ..........  9% 34.8K 21s\n",
      "   300K .......... .......... .......... .......... .......... 11%  239M 18s\n",
      "   350K .......... .......... .......... .......... .......... 13% 25.0K 28s\n",
      "   400K .......... .......... .......... .......... .......... 14%  265M 25s\n",
      "   450K .......... .......... .......... .......... .......... 16%  229M 22s\n",
      "   500K .......... .......... .......... .......... .......... 18% 19.0K 31s\n",
      "   550K .......... .......... .......... .......... .......... 19% 96.1M 28s\n",
      "   600K .......... .......... .......... .......... .......... 21% 15.2K 37s\n",
      "   650K .......... .......... .......... .......... .......... 23%  271M 34s\n",
      "   700K .......... .......... .......... .......... .......... 24%  292M 31s\n",
      "   750K .......... .......... .......... .......... .......... 26% 13.0K 39s\n",
      "   800K .......... .......... .......... .......... .......... 28%  237M 36s\n",
      "   850K .......... .......... .......... .......... .......... 29% 11.4K 43s\n",
      "   900K .......... .......... .......... .......... .......... 31%  193M 40s\n",
      "   950K .......... .......... .......... .......... .......... 33%  291M 37s\n",
      "  1000K .......... .......... .......... .......... .......... 34% 9.82K 44s\n",
      "  1050K .......... .......... .......... .......... .......... 36%  309M 41s\n",
      "  1100K .......... .......... .......... .......... .......... 38%  315M 38s\n",
      "  1150K .......... .......... .......... .......... .......... 39% 8.88K 44s\n",
      "  1200K .......... .......... .......... .......... .......... 41%  203M 41s\n",
      "  1250K .......... .......... .......... .......... .......... 43% 7.89K 47s\n",
      "  1300K .......... .......... .......... .......... .......... 44%  178M 44s\n",
      "  1350K .......... .......... .......... .......... .......... 46%  160M 41s\n",
      "  1400K .......... .......... .......... .......... .......... 48% 7.07K 46s\n",
      "  1450K .......... .......... .......... .......... .......... 49%  207M 43s\n",
      "  1500K .......... .......... .......... .......... .......... 51% 6.40K 48s\n",
      "  1550K .......... .......... .......... .......... .......... 53%  122M 45s\n",
      "  1600K .......... .......... .......... .......... .......... 54%  228M 42s\n",
      "  1650K .......... .......... .......... .......... .......... 56% 6.29K 45s\n",
      "  1700K .......... .......... .......... .......... .......... 58%  193M 42s\n",
      "  1750K .......... .......... .......... .......... .......... 59% 5.63K 45s\n",
      "  1800K .......... .......... .......... .......... .......... 61%  212M 42s\n",
      "  1850K .......... .......... .......... .......... .......... 63%  315M 39s\n",
      "  1900K .......... .......... .......... .......... .......... 64% 5.44K 42s\n",
      "  1950K .......... .......... .......... .......... .......... 66%  234M 39s\n",
      "  2000K .......... .......... .......... .......... .......... 68% 5.19K 40s\n",
      "  2050K .......... .......... .......... .......... .......... 69%  156M 37s\n",
      "  2100K .......... .......... .......... .......... .......... 71%  216M 35s\n",
      "  2150K .......... .......... .......... .......... .......... 73% 4.62K 36s\n",
      "  2200K .......... .......... .......... .......... .......... 74%  241M 33s\n",
      "  2250K .......... .......... .......... .......... .......... 76%  388M 30s\n",
      "  2300K .......... .......... .......... .......... .......... 77% 4.50K 30s\n",
      "  2350K .......... .......... .......... .......... .......... 79%  200M 28s\n",
      "  2400K .......... .......... .......... .......... .......... 81% 4.24K 28s\n",
      "  2450K .......... .......... .......... .......... .......... 82%  175M 25s\n",
      "  2500K .......... .......... .......... .......... .......... 84%  219M 22s\n",
      "  2550K .......... .......... .......... .......... .......... 86% 3.78K 21s\n",
      "  2600K .......... .......... .......... .......... .......... 87%  417M 18s\n",
      "  2650K .......... .......... .......... .......... .......... 89% 3.79K 17s\n",
      "  2700K .......... .......... .......... .......... .......... 91%  264M 14s\n",
      "  2750K .......... .......... .......... .......... .......... 92%  202M 11s\n",
      "  2800K .......... .......... .......... .......... .......... 94% 3.77K 9s\n",
      "  2850K .......... .......... .......... .......... .......... 96%  339M 6s\n",
      "  2900K .......... .......... .......... .......... .......... 97% 3.69K 4s\n",
      "  2950K .......... .......... .......... .......... .......... 99%  289M 1s\n",
      "  3000K .......... ...                                        100%  580M=2m53s\n",
      "\n",
      "2015-08-29 17:54:39 (17.4 KB/s) - 'data/pollresults_resultatsbureau_canada.zip' saved [3085377/3085377]\n",
      "\n"
     ]
    }
   ],
   "source": [
    "%%bash\n",
    "wget \\\n",
    "  http://www.elections.ca/scripts/OVR2011/34/data_donnees/pollresults_resultatsbureau_canada.zip \\\n",
    "  -O data/pollresults_resultatsbureau_canada.zip\n",
    "    \n",
    "unzip -u \\\n",
    "  data/pollresults_resultatsbureau_canada.zip \\\n",
    "  -d data"
   ]
  },
  {
   "cell_type": "code",
   "execution_count": 457,
   "metadata": {
    "collapsed": false
   },
   "outputs": [
    {
     "name": "stdout",
     "output_type": "stream",
     "text": [
      "Overwriting db/candidate.sql\n"
     ]
    }
   ],
   "source": [
    "%%file db/candidate.sql\n",
    "\n",
    "DROP TABLE IF EXISTS candidate;\n",
    "\n",
    "CREATE TABLE candidate (\n",
    "    id                    TEXT NOT NULL PRIMARY KEY,\n",
    "    family_name           TEXT NOT NULL,\n",
    "    middle_name           TEXT,\n",
    "    first_name            TEXT NOT NULL,\n",
    "    political_affiliation TEXT NOT NULL,\n",
    "    incumbent             BOOLEAN NOT NULL,\n",
    "    elected               BOOLEAN NOT NULL\n",
    ");"
   ]
  },
  {
   "cell_type": "code",
   "execution_count": 458,
   "metadata": {
    "collapsed": false
   },
   "outputs": [
    {
     "name": "stdout",
     "output_type": "stream",
     "text": [
      "Overwriting db/station.sql\n"
     ]
    }
   ],
   "source": [
    "%%file db/station.sql\n",
    "\n",
    "DROP TABLE IF EXISTS station;\n",
    "\n",
    "CREATE TABLE station (\n",
    "    id           TEXT PRIMARY KEY,\n",
    "    name         TEXT,\n",
    "    number       TEXT,\n",
    "    void         BOOLEAN,\n",
    "    no_poll      BOOLEAN,\n",
    "    electors     INTEGER,\n",
    "    merge_with   TEXT,\n",
    "    rejected     INTEGER\n",
    ");"
   ]
  },
  {
   "cell_type": "code",
   "execution_count": 459,
   "metadata": {
    "collapsed": false
   },
   "outputs": [
    {
     "name": "stdout",
     "output_type": "stream",
     "text": [
      "Overwriting db/poll.sql\n"
     ]
    }
   ],
   "source": [
    "%%file db/poll.sql\n",
    "\n",
    "DROP TABLE IF EXISTS poll;\n",
    "\n",
    "CREATE TABLE poll (\n",
    "    id           TEXT PRIMARY KEY,\n",
    "    fednum       INTEGER,\n",
    "    station_id   TEXT,\n",
    "    votes        INTEGER,\n",
    "    candidate_id TEXT,\n",
    "    FOREIGN KEY(fednum)       REFERENCES electoral_district(fednum),\n",
    "    FOREIGN KEY(station_id)   REFERENCES station(id),\n",
    "    FOREIGN KEY(candidate_id) REFERENCES candidate(id)\n",
    ");"
   ]
  },
  {
   "cell_type": "code",
   "execution_count": 469,
   "metadata": {
    "collapsed": false
   },
   "outputs": [],
   "source": [
    "%%bash\n",
    "sqlite3 db/election.db < db/candidate.sql\n",
    "sqlite3 db/election.db < db/station.sql\n",
    "sqlite3 db/election.db < db/poll.sql"
   ]
  },
  {
   "cell_type": "code",
   "execution_count": 470,
   "metadata": {
    "collapsed": false
   },
   "outputs": [],
   "source": [
    "poll_files = glob.glob(\"data/pollresults_resultatsbureau*.csv\")"
   ]
  },
  {
   "cell_type": "code",
   "execution_count": 471,
   "metadata": {
    "collapsed": false
   },
   "outputs": [],
   "source": [
    "for poll_file in poll_files:\n",
    "\n",
    "    #read in the poll file, and rename the columns so that pandas has an easier time\n",
    "    district_results = pd.read_csv(poll_file,\n",
    "                                   encoding='latin-1',\n",
    "                                   skiprows=1,\n",
    "                                   names=[u'Electoral District Number',\n",
    "                                          u'Electoral District Name_English',\n",
    "                                          u'Electoral District Name_French',\n",
    "                                          u'Polling Station Number',\n",
    "                                          u'Polling Station Name',\n",
    "                                          u'Void Poll Indicator',\n",
    "                                          u'No Poll Held Indicator',\n",
    "                                          u'Merge With',\n",
    "                                          u'Rejected Ballots for Polling Station',\n",
    "                                          u'Electors for Polling Station',\n",
    "                                          u\"Candidate's Family Name\",\n",
    "                                          u\"Candidate's Middle Name\",\n",
    "                                          u\"Candidate's First Name\",\n",
    "                                          u'Political Affiliation Name_English',\n",
    "                                          u'Political Affiliation Name_French',\n",
    "                                          u'Incumbent Indicator',\n",
    "                                          u'Elected Candidate Indicator',\n",
    "                                          u'Candidate Poll Votes Count'])\n",
    "\n",
    "    #candidate_id definition\n",
    "    district_results[\"candidate_id\"] = \\\n",
    "      district_results[\"Candidate's First Name\"] + \\\n",
    "      district_results[\"Candidate's Middle Name\"].map(unicode) + \\\n",
    "      district_results[\"Candidate's Family Name\"] + \\\n",
    "      district_results[\"Political Affiliation Name_English\"]\n",
    "    \n",
    "    #station_id definition\n",
    "    district_results[\"station_id\"] = \\\n",
    "      district_results[\"Electoral District Number\"].map(unicode) + \\\n",
    "      district_results[\"Polling Station Name\"] + \\\n",
    "      district_results[\"Polling Station Number\"]\n",
    "        \n",
    "    #poll_id definition\n",
    "    district_results[\"poll_id\"] = \\\n",
    "      district_results[\"station_id\"] + \\\n",
    "      district_results[\"candidate_id\"]\n",
    "    \n",
    "    #turn the concated ids into hash values\n",
    "    def hash_id(x):\n",
    "        return hashlib.md5(x.encode('utf-8')).hexdigest()\n",
    "    \n",
    "    district_results['poll_id']      = district_results['poll_id'].map(hash_id)\n",
    "    district_results['station_id']   = district_results['station_id'].map(hash_id)\n",
    "    district_results['candidate_id'] = district_results['candidate_id'].map(hash_id)\n",
    "    \n",
    "    #normalized the candidate table\n",
    "    candidates = pd.DataFrame(district_results, columns=[\"candidate_id\",\n",
    "                                                         \"Candidate's First Name\",\n",
    "                                                         \"Candidate's Middle Name\",\n",
    "                                                         \"Candidate's Family Name\",\n",
    "                                                         \"Political Affiliation Name_English\",\n",
    "                                                         \"Incumbent Indicator\",\n",
    "                                                         \"Elected Candidate Indicator\"])\n",
    "    candidates.columns = [\"id\", \"first_name\", \"middle_name\", \"family_name\", \"political_affiliation\", \"incumbent\", \"elected\"]\n",
    "    candidates['incumbent'] = candidates['incumbent'].apply(lambda x: True if x=='Y' else False)\n",
    "    candidates['elected']   = candidates['elected'].apply(lambda x: True if x=='Y' else False)\n",
    "    \n",
    "    #insert the candidate rows\n",
    "    candidates.drop_duplicates().to_sql('candidate', engine, if_exists='append', index=False)\n",
    "\n",
    "    #normalize station table\n",
    "    stations = pd.DataFrame(district_results, columns = [\"station_id\",\n",
    "                                                         \"Polling Station Name\",\n",
    "                                                         \"Polling Station Number\",\n",
    "                                                         \"Void Poll Indicator\",\n",
    "                                                         \"No Poll Held Indicator\",\n",
    "                                                         \"Electors for Polling Station\",\n",
    "                                                         \"Merge With\",\n",
    "                                                         \"Rejected Ballots for Polling Station\"])\n",
    "    stations.columns    = [\"id\",\"name\",\"number\",\"void\",\"no_poll\",\"electors\",\"merge_with\",\"rejected\"]\n",
    "    stations['void']    = stations['void'].apply(lambda x: True if x=='Y' else False)\n",
    "    stations['no_poll'] = stations['no_poll'].apply(lambda x: True if x=='Y' else False)\n",
    "    \n",
    "    #insert station rows\n",
    "    stations.drop_duplicates().to_sql('station', engine, if_exists='append', index=False)\n",
    "\n",
    "    #normalize poll table\n",
    "    polls = pd.DataFrame(district_results, columns=[\"poll_id\",\n",
    "                                                    \"Electoral District Number\",\n",
    "                                                    \"station_id\",\n",
    "                                                    \"Candidate Poll Votes Count\",\n",
    "                                                    \"candidate_id\"\n",
    "                                                   ])\n",
    "    polls.columns = ['id','fednum','station_id','votes','candidate_id']\n",
    "    \n",
    "    #insert poll rows\n",
    "    polls.to_sql('poll', engine, if_exists='append', index=False)\n"
   ]
  },
  {
   "cell_type": "markdown",
   "metadata": {},
   "source": [
    "### First past the post"
   ]
  },
  {
   "cell_type": "code",
   "execution_count": 121,
   "metadata": {
    "collapsed": false
   },
   "outputs": [],
   "source": [
    "fptp = pd.read_sql(\"\"\"\n",
    "               SELECT \n",
    "                 poll.fednum,\n",
    "                 electoral_district.enname,\n",
    "                 electoral_district.provcode,\n",
    "                 candidate.family_name,\n",
    "                 candidate.political_affiliation,\n",
    "                 SUM(poll.votes) as votes\n",
    "               FROM poll, candidate, electoral_district\n",
    "               WHERE poll.candidate_id=candidate.id\n",
    "                 AND poll.fednum=electoral_district.fednum\n",
    "               GROUP BY poll.candidate_id, poll.fednum\n",
    "               ORDER BY poll.fednum, votes DESC\n",
    "            \"\"\", engine).groupby('fednum')"
   ]
  },
  {
   "cell_type": "code",
   "execution_count": 122,
   "metadata": {
    "collapsed": false
   },
   "outputs": [
    {
     "data": {
      "text/html": [
       "<div>\n",
       "<table border=\"1\" class=\"dataframe\">\n",
       "  <thead>\n",
       "    <tr style=\"text-align: right;\">\n",
       "      <th></th>\n",
       "      <th>enname</th>\n",
       "      <th>provcode</th>\n",
       "      <th>family_name</th>\n",
       "      <th>political_affiliation</th>\n",
       "      <th>votes</th>\n",
       "    </tr>\n",
       "    <tr>\n",
       "      <th>fednum</th>\n",
       "      <th></th>\n",
       "      <th></th>\n",
       "      <th></th>\n",
       "      <th></th>\n",
       "      <th></th>\n",
       "    </tr>\n",
       "  </thead>\n",
       "  <tbody>\n",
       "    <tr>\n",
       "      <th>10001</th>\n",
       "      <td>Avalon</td>\n",
       "      <td>NL</td>\n",
       "      <td>Andrews</td>\n",
       "      <td>Liberal</td>\n",
       "      <td>16008</td>\n",
       "    </tr>\n",
       "    <tr>\n",
       "      <th>10002</th>\n",
       "      <td>Bonavista--Gander--Grand Falls--Windsor</td>\n",
       "      <td>NL</td>\n",
       "      <td>Simms</td>\n",
       "      <td>Liberal</td>\n",
       "      <td>17977</td>\n",
       "    </tr>\n",
       "    <tr>\n",
       "      <th>10003</th>\n",
       "      <td>Humber--St. Barbe--Baie Verte</td>\n",
       "      <td>NL</td>\n",
       "      <td>Byrne</td>\n",
       "      <td>Liberal</td>\n",
       "      <td>17119</td>\n",
       "    </tr>\n",
       "    <tr>\n",
       "      <th>10004</th>\n",
       "      <td>Labrador</td>\n",
       "      <td>NL</td>\n",
       "      <td>Penashue</td>\n",
       "      <td>Conservative</td>\n",
       "      <td>4256</td>\n",
       "    </tr>\n",
       "    <tr>\n",
       "      <th>10005</th>\n",
       "      <td>Random--Burin--St. George's</td>\n",
       "      <td>NL</td>\n",
       "      <td>Foote</td>\n",
       "      <td>Liberal</td>\n",
       "      <td>12914</td>\n",
       "    </tr>\n",
       "  </tbody>\n",
       "</table>\n",
       "</div>"
      ],
      "text/plain": [
       "                                         enname provcode family_name  \\\n",
       "fednum                                                                 \n",
       "10001                                    Avalon       NL     Andrews   \n",
       "10002   Bonavista--Gander--Grand Falls--Windsor       NL       Simms   \n",
       "10003             Humber--St. Barbe--Baie Verte       NL       Byrne   \n",
       "10004                                  Labrador       NL    Penashue   \n",
       "10005               Random--Burin--St. George's       NL       Foote   \n",
       "\n",
       "       political_affiliation  votes  \n",
       "fednum                               \n",
       "10001                Liberal  16008  \n",
       "10002                Liberal  17977  \n",
       "10003                Liberal  17119  \n",
       "10004           Conservative   4256  \n",
       "10005                Liberal  12914  "
      ]
     },
     "execution_count": 122,
     "metadata": {},
     "output_type": "execute_result"
    }
   ],
   "source": [
    "fptp.first().head()"
   ]
  },
  {
   "cell_type": "code",
   "execution_count": 123,
   "metadata": {
    "collapsed": false
   },
   "outputs": [
    {
     "data": {
      "text/plain": [
       "Counter({u'Bloc Qu\\xe9b\\xe9cois': 4,\n",
       "         u'Conservative': 166,\n",
       "         u'Green Party': 1,\n",
       "         u'Liberal': 34,\n",
       "         u'NDP-New Democratic Party': 103})"
      ]
     },
     "execution_count": 123,
     "metadata": {},
     "output_type": "execute_result"
    }
   ],
   "source": [
    "Counter(fptp.first().political_affiliation.values)"
   ]
  },
  {
   "cell_type": "code",
   "execution_count": 124,
   "metadata": {
    "collapsed": false
   },
   "outputs": [
    {
     "data": {
      "text/plain": [
       "7495961"
      ]
     },
     "execution_count": 124,
     "metadata": {},
     "output_type": "execute_result"
    }
   ],
   "source": [
    "fptp.first().votes.sum()"
   ]
  },
  {
   "cell_type": "code",
   "execution_count": 127,
   "metadata": {
    "collapsed": false
   },
   "outputs": [
    {
     "data": {
      "text/plain": [
       "14873962"
      ]
     },
     "execution_count": 127,
     "metadata": {},
     "output_type": "execute_result"
    }
   ],
   "source": [
    "fptp.votes.sum().values.sum()"
   ]
  },
  {
   "cell_type": "code",
   "execution_count": 128,
   "metadata": {
    "collapsed": false
   },
   "outputs": [
    {
     "data": {
      "text/plain": [
       "0.5039653187227452"
      ]
     },
     "execution_count": 128,
     "metadata": {},
     "output_type": "execute_result"
    }
   ],
   "source": [
    "7495961./14873962"
   ]
  },
  {
   "cell_type": "markdown",
   "metadata": {},
   "source": [
    "### Instant runoff voting"
   ]
  },
  {
   "cell_type": "markdown",
   "metadata": {},
   "source": [
    "http://www.ekospolitics.com/wp-content/uploads/full_report_april_29_2011.pdf\n",
    "\n",
    "| Party                       |Cons|Libs | NDP |Green|Bloc|Other| Nope|\n",
    "|-----------------------------|----|-----|-----|-----|----|-----|-----|\n",
    "|Conservative Party of Canada |  0%| 16% | 21% | 11% | 1% |  4% | 47% |\n",
    "|Liberal Party of Canada      | 13%|  0% | 54% | 12% | 3% |  1% | 17% |\n",
    "|NDP                          | 14%| 38% |  0% | 19% |11% |  1% | 17% |\n",
    "|Green Party                  | 11%| 17% | 40% |  0% | 3% |  1% | 27% |\n",
    "|Bloc Quebecois               |  7%| 13% | 49% |  8% | 0% |  1% | 22% |\n",
    "|Undecided                    | 11%|  9% | 16% | 12% | 9% |  0% | 43% |"
   ]
  },
  {
   "cell_type": "code",
   "execution_count": 6,
   "metadata": {
    "collapsed": true
   },
   "outputs": [],
   "source": [
    "second_choices = {\n",
    "    'Conservative':{\n",
    "        'Liberal':0.16,\n",
    "        'NDP-New Democratic Party':0.21,\n",
    "        'Green Party':0.11,\n",
    "        u'Bloc Qu\\xe9b\\xe9cois':0.01,\n",
    "        'Other':0.04,\n",
    "        'None':0.47\n",
    "    },\n",
    "    'Liberal':{\n",
    "        'Conservative':0.13,\n",
    "        'NDP-New Democratic Party':0.54,\n",
    "        'Green Party':0.12,\n",
    "        u'Bloc Qu\\xe9b\\xe9cois':0.03,\n",
    "        'Other':0.01,\n",
    "        'None':0.17\n",
    "    },\n",
    "    'NDP-New Democratic Party':{\n",
    "        'Conservative':0.14,\n",
    "        'Liberal':0.38,\n",
    "        'Green Party':0.19,\n",
    "        u'Bloc Qu\\xe9b\\xe9cois':0.11,\n",
    "        'Other':0.01,\n",
    "        'None':0.17    \n",
    "    },\n",
    "    'Green Party':{\n",
    "        'Conservative':0.11,\n",
    "        'Liberal':0.17,\n",
    "        'NDP-New Democratic Party':0.40,\n",
    "        u'Bloc Qu\\xe9b\\xe9cois':0.03,\n",
    "        'Other':0.01,\n",
    "        'None':0.28 \n",
    "    },\n",
    "    u'Bloc Qu\\xe9b\\xe9cois':{\n",
    "        'Conservative':0.07,\n",
    "        'Liberal':0.13,\n",
    "        'NDP-New Democratic Party':0.49,\n",
    "        'Green Party':0.08,\n",
    "        'Other':0.01,\n",
    "        'None':0.22 \n",
    "    },\n",
    "    'default':{\n",
    "        'Conservative':0.10,\n",
    "        'Liberal':0.17,\n",
    "        'NDP-New Democratic Party':0.32,\n",
    "        'Green Party':0.11,\n",
    "        u'Bloc Qu\\xe9b\\xe9cois':0.04,\n",
    "        'Other':0.02,\n",
    "        'None':0.24\n",
    "    }\n",
    "}"
   ]
  },
  {
   "cell_type": "code",
   "execution_count": 7,
   "metadata": {
    "collapsed": false
   },
   "outputs": [],
   "source": [
    "def runoff_round(candidates, choice_matrix):\n",
    "    if len(candidates) == 0:\n",
    "        return []\n",
    "    \n",
    "    #initialize the change-log to empty set\n",
    "    change_log = []\n",
    "    \n",
    "    #sort the candidates by votes, and find the one with the fewest votes\n",
    "    sorted_by_votes  = sorted([candidate for candidate in candidates if candidate['votes']>0], key=lambda x: x['votes'])\n",
    "    lowest_candidate = sorted_by_votes[0]\n",
    "    \n",
    "    #the candidate with the lowest votes will have their votes redistributed, so subtract from their total\n",
    "    change_log.append( {'id':lowest_candidate['id'], 'votes':-1*lowest_candidate['votes']} )\n",
    "    \n",
    "    choice_vector = choice_matrix.get(lowest_candidate['political_affiliation'], choice_matrix['default'])\n",
    "    \n",
    "    #renormalize choice vector based on the remaining parties\n",
    "    remaining_parties = set([candidate['political_affiliation'] for candidate in sorted_by_votes]) - set([lowest_candidate['political_affiliation']])\n",
    "    remaining_choices = set(choice_vector.keys())\n",
    "    parties = remaining_parties.intersection(remaining_choices)\n",
    "\n",
    "    party_weights = np.array([choice_vector[x] for x in parties])\n",
    "    party_weights = party_weights/np.sum(party_weights)\n",
    "\n",
    "    redistribution = Counter( np.random.choice(list(parties), p=party_weights, size=lowest_candidate['votes'] ) )\n",
    "    \n",
    "    #make a index of party->candidate_id\n",
    "    index = dict([(candidate['political_affiliation'], candidate['id']) for candidate in candidates] )\n",
    "    \n",
    "    for party, votes in redistribution.items():\n",
    "        id = index[party]\n",
    "        change_log.append({'id':id, 'votes':votes})\n",
    "\n",
    "    return change_log\n",
    "  \n",
    "\n",
    "def apply_changes(candidates, change_log):\n",
    "\n",
    "    candidate_index = dict([(candidate['id'], candidate.copy()) for candidate in candidates] )\n",
    "    \n",
    "    for round in change_log:\n",
    "        for change in round:\n",
    "            candidate_index[change['id']]['votes'] += change['votes']\n",
    "    \n",
    "    return candidate_index.values()\n",
    "\n",
    "\n",
    "def instant_runoff( candidates, choice_matrix ):\n",
    "    \n",
    "    def elected(_candidates, _threshold):\n",
    "        for candidate in _candidates:\n",
    "            if candidate['votes'] >= _threshold:\n",
    "                return candidate\n",
    "        return None\n",
    "    \n",
    "    max_rounds = len(candidates) - 1\n",
    "    threshold = 1 + sum([candidate['votes'] for candidate in candidates])/2.\n",
    "    \n",
    "    rounds = []\n",
    "    for i in range(max_rounds):\n",
    "        \n",
    "        round_candidates = apply_changes(candidates, rounds)\n",
    "        if elected(round_candidates, threshold):\n",
    "            break\n",
    "        \n",
    "        rounds.append( runoff_round(round_candidates, choice_matrix) )\n",
    "        \n",
    "    _elected = elected(apply_changes(candidates, rounds), threshold)\n",
    "        \n",
    "    return {'candidates':candidates,\n",
    "            'threshold':int(threshold),\n",
    "            'elected':_elected['id'],\n",
    "            'elected_party':_elected['political_affiliation'],\n",
    "            'elected_votes':_elected['votes'],\n",
    "            'rounds':rounds}"
   ]
  },
  {
   "cell_type": "code",
   "execution_count": 8,
   "metadata": {
    "collapsed": true
   },
   "outputs": [],
   "source": [
    "def simulate_instant_runoff():\n",
    "    \n",
    "    results = pd.read_sql(\"\"\"\n",
    "               SELECT \n",
    "                 poll.fednum,\n",
    "                 candidate.id,\n",
    "                 candidate.first_name || \" \" || candidate.family_name as name,\n",
    "                 candidate.political_affiliation,\n",
    "                 SUM(poll.votes) as votes\n",
    "               FROM poll, candidate, electoral_district\n",
    "               WHERE poll.candidate_id=candidate.id\n",
    "                 AND poll.fednum=electoral_district.fednum\n",
    "               GROUP BY poll.candidate_id, poll.fednum\n",
    "               ORDER BY poll.fednum, votes DESC\n",
    "            \"\"\", engine).groupby('fednum')\n",
    "    \n",
    "    simulated_election = {}\n",
    "    \n",
    "    for result in results:\n",
    "        fednum, candidates = result\n",
    "\n",
    "        candidates = candidates.to_dict(orient='records')\n",
    "        simulated_election[str(fednum)] = instant_runoff(candidates, second_choices)\n",
    "        \n",
    "    return simulated_election"
   ]
  },
  {
   "cell_type": "code",
   "execution_count": 9,
   "metadata": {
    "collapsed": false
   },
   "outputs": [
    {
     "name": "stdout",
     "output_type": "stream",
     "text": [
      "CPU times: user 2.52 s, sys: 183 ms, total: 2.71 s\n",
      "Wall time: 2.77 s\n"
     ]
    }
   ],
   "source": [
    "%%time\n",
    "simulation = simulate_instant_runoff()"
   ]
  },
  {
   "cell_type": "code",
   "execution_count": 15,
   "metadata": {
    "collapsed": false
   },
   "outputs": [
    {
     "data": {
      "text/plain": [
       "Counter({u'Conservative': 132,\n",
       "         u'Green Party': 1,\n",
       "         u'Liberal': 51,\n",
       "         u'NDP-New Democratic Party': 124})"
      ]
     },
     "execution_count": 15,
     "metadata": {},
     "output_type": "execute_result"
    }
   ],
   "source": [
    "Counter([x['elected_party'] for x in simulation.values()])"
   ]
  },
  {
   "cell_type": "code",
   "execution_count": 664,
   "metadata": {
    "collapsed": false
   },
   "outputs": [
    {
     "data": {
      "text/plain": [
       "8447063"
      ]
     },
     "execution_count": 664,
     "metadata": {},
     "output_type": "execute_result"
    }
   ],
   "source": [
    "sum([x['elected_votes'] for x in simulation.values()])"
   ]
  },
  {
   "cell_type": "code",
   "execution_count": 10,
   "metadata": {
    "collapsed": false
   },
   "outputs": [
    {
     "data": {
      "text/plain": [
       "0.5679094110903335"
      ]
     },
     "execution_count": 10,
     "metadata": {},
     "output_type": "execute_result"
    }
   ],
   "source": [
    "8447063./14873962"
   ]
  },
  {
   "cell_type": "code",
   "execution_count": 14,
   "metadata": {
    "collapsed": false
   },
   "outputs": [],
   "source": [
    "json.dump(simulation, open('irv_simulation.json','w'))"
   ]
  },
  {
   "cell_type": "code",
   "execution_count": null,
   "metadata": {
    "collapsed": true
   },
   "outputs": [],
   "source": []
  }
 ],
 "metadata": {
  "kernelspec": {
   "display_name": "Python 2",
   "language": "python",
   "name": "python2"
  },
  "language_info": {
   "codemirror_mode": {
    "name": "ipython",
    "version": 2
   },
   "file_extension": ".py",
   "mimetype": "text/x-python",
   "name": "python",
   "nbconvert_exporter": "python",
   "pygments_lexer": "ipython2",
   "version": "2.7.10"
  }
 },
 "nbformat": 4,
 "nbformat_minor": 0
}
